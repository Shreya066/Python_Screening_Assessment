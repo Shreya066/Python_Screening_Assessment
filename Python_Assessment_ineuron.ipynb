{
 "cells": [
  {
   "cell_type": "markdown",
   "id": "519f2a61",
   "metadata": {},
   "source": [
    "**1. Create a function in python to read the text file and replace specific content of the file.**"
   ]
  },
  {
   "cell_type": "code",
   "execution_count": 1,
   "id": "8051b915",
   "metadata": {},
   "outputs": [],
   "source": [
    "def replace_in_file():\n",
    "    # read file\n",
    "    try:\n",
    "        f = open (\"example.txt\", \"r\")\n",
    "        data = f.read()\n",
    "        data = data.replace(\"placement\", \"screening\")\n",
    "        f.close\n",
    "    except Exception:\n",
    "        print(\"Exception occured\", Exception)\n",
    "        \n",
    "    # write file\n",
    "    try:\n",
    "        f = open(\"example.txt\", \"w\")\n",
    "        f.write(data)\n",
    "        f.close()\n",
    "    except Exception:\n",
    "        print(\"Exception occured\", Exception)"
   ]
  },
  {
   "cell_type": "markdown",
   "id": "877f21ae",
   "metadata": {},
   "source": [
    "**2. Demonstrate use of abstract class, multiple inheritance and decorator in python using examples.**"
   ]
  },
  {
   "cell_type": "code",
   "execution_count": 2,
   "id": "0a5dc03c",
   "metadata": {},
   "outputs": [
    {
     "name": "stdout",
     "output_type": "stream",
     "text": [
      "9\n",
      "5\n"
     ]
    }
   ],
   "source": [
    "from abc import ABC, abstractmethod\n",
    "\n",
    "class Calculations(ABC):\n",
    "    @abstractmethod\n",
    "    def solve (self,a,b):\n",
    "        pass\n",
    "    \n",
    "class Addition(Calculations):\n",
    "    def __solve(self,a,b):\n",
    "        return a+b\n",
    "    def add(self,a,b):\n",
    "        return self.__solve(a,b)\n",
    "    \n",
    "class Substraction(Calculations):\n",
    "    def __solve(self,a,b):\n",
    "        return a-b\n",
    "    def subtract(self,a,b):\n",
    "        return self.__solve(a,b)\n",
    "\n",
    "class Calculator(Addition,Substraction):\n",
    "    def solve(self,a,b):\n",
    "        pass\n",
    "\n",
    "calculator = Calculator()\n",
    "print(calculator.add(4,5))\n",
    "print(calculator.subtract(10,5))"
   ]
  },
  {
   "cell_type": "markdown",
   "id": "44fa8104",
   "metadata": {},
   "source": [
    "1. **Abstract class** <br>\n",
    "  An abstract class can be considered as a blueprint for other classes. It allows to create a set of methods that must be     created within any child classes built from the abstract class. In the above example, *Calculations* is the abstract       class.\n",
    "  <br>\n",
    "2. **Multiple Inheritance** <br>\n",
    "  When a class is derieved from more than one base class it is called multiple inheritance. The derived class inherits all   the features of the base class. In the above example, class Calculator inherits the features of Addition and\n",
    "  Substraction classes i.e. Addition and Substraction classes acts as a parent class to the child class i.e. class\n",
    "  Calculator.\n",
    "  <br>\n",
    "3. **Decorator** <br>\n",
    "  A decorator is a design pattern in python that allows a user to add new functionality to an existing object without\n",
    "  modifying its structure. Decorators are usually called before the definition of a function you want to decorate. In the\n",
    "  above example, @abstractmethod acts as a decorator."
   ]
  }
 ],
 "metadata": {
  "kernelspec": {
   "display_name": "Python 3 (ipykernel)",
   "language": "python",
   "name": "python3"
  },
  "language_info": {
   "codemirror_mode": {
    "name": "ipython",
    "version": 3
   },
   "file_extension": ".py",
   "mimetype": "text/x-python",
   "name": "python",
   "nbconvert_exporter": "python",
   "pygments_lexer": "ipython3",
   "version": "3.9.7"
  }
 },
 "nbformat": 4,
 "nbformat_minor": 5
}
